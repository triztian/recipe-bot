{
 "cells": [
  {
   "cell_type": "code",
   "execution_count": 1,
   "metadata": {},
   "outputs": [],
   "source": [
    "from textwrap import dedent"
   ]
  },
  {
   "cell_type": "markdown",
   "metadata": {
    "vscode": {
     "languageId": "raw"
    }
   },
   "source": [
    "# Homework 2: Recipe Bot Error Analysis\n",
    "\n",
    "This notebook walks through the complete error analysis process for a Recipe Bot. We'll identify failure modes, generate test queries, and analyze bot responses to build a taxonomy of errors.\n",
    "\n",
    "**Note:** This uses the pre-existing queries and bot responses in `results_20250518_215844.csv` as our data source.\n",
    "\n",
    "For a recording of the homework walkthrough please see: https://youtu.be/h9oAAAYnGx4"
   ]
  },
  {
   "cell_type": "code",
   "execution_count": 2,
   "metadata": {},
   "outputs": [],
   "source": [
    "import pandas as pd"
   ]
  },
  {
   "cell_type": "code",
   "execution_count": 3,
   "metadata": {},
   "outputs": [
    {
     "data": {
      "text/plain": [
       "'claude-sonnet-4-20250514'"
      ]
     },
     "execution_count": 3,
     "metadata": {},
     "output_type": "execute_result"
    }
   ],
   "source": [
    "from claudette import models, Client\n",
    "model = models[1]\n",
    "c = Client(model)\n",
    "model"
   ]
  },
  {
   "cell_type": "markdown",
   "metadata": {
    "vscode": {
     "languageId": "raw"
    }
   },
   "source": [
    "## Part 1: Define Dimensions & Generate Initial Queries"
   ]
  },
  {
   "cell_type": "markdown",
   "metadata": {
    "vscode": {
     "languageId": "raw"
    }
   },
   "source": [
    "### Identify Key Dimensions\n"
   ]
  },
  {
   "cell_type": "markdown",
   "metadata": {},
   "source": [
    "\n",
    "1. **Dietary Restrictions**: What dietary limits does the user have?\n",
    "   - Low Carb\n",
    "   - Keto\n",
    "   - No Seafood\n",
    "\n",
    "2. **What For**: What is the meal for?\n",
    "   - Potluck\n",
    "   - Dinner party\n",
    "   - Cooking for the family\n",
    "   - Snacks\n",
    "\n",
    "3. **Time Available**: How much time do they have?\n",
    "   - Under 15\n",
    "   - 30 minutes\n",
    "   - 1 hour\n",
    "\n",
    "4. **Ingredient Base**:\n",
    "   - Beans\n",
    "   - Pasta\n",
    "   - Ground Beef\n",
    "\n",
    "5. **Meal Time**:\n",
    "   - Breakfast\n",
    "   - Lunch\n",
    "   - Dinner\n"
   ]
  },
  {
   "cell_type": "markdown",
   "metadata": {},
   "source": [
    "### Generate Unique Combinations"
   ]
  },
  {
   "cell_type": "code",
   "execution_count": 5,
   "metadata": {},
   "outputs": [],
   "source": [
    "prompt = dedent('''\\\n",
    "    I am designing a Recipe Bot and want to test it with a diverse set of user scenarios. Please generate 50 unique combinations (tuples) using the following key dimensions and their possible values:\n",
    "\n",
    "    - Dietary Restrictions: Low Carb, Keto, No Seafood, Vegan, Gluten-Free, Dairy-Free, Paleo, Mediterranean\n",
    "    - What For: Potluck, Dinner party, Cooking for the family, Snacks, Work lunch, Picnic, Holiday gathering, Weeknight dinner\n",
    "    - Time Available: Under 15, 30 minutes, 1 hour, 2 hours, Overnight, Weekend project\n",
    "    - Ingredient Base: Beans, Pasta, Ground Beef, Chicken, Tofu, Rice, Quinoa, Sweet Potatoes\n",
    "    - Meal Time: Breakfast, Lunch, Dinner, Brunch, Late night\n",
    "\n",
    "    Each combination should select one value from each dimension. Present the results as a list of tuples, where each tuple contains one value for each dimension in the following order: (Dietary Restrictions, What For, Time Available, Ingredient Base, Meal Time). Ensure that the combinations are varied and realistic.''')\n"
   ]
  },
  {
   "cell_type": "code",
   "execution_count": 6,
   "metadata": {},
   "outputs": [
    {
     "data": {
      "text/markdown": [
       "Here are 50 unique and realistic combinations for testing your Recipe Bot:\n",
       "\n",
       "1. (Vegan, Potluck, 1 hour, Quinoa, Lunch)\n",
       "2. (Keto, Weeknight dinner, 30 minutes, Ground Beef, Dinner)\n",
       "3. (Gluten-Free, Work lunch, Under 15, Rice, Lunch)\n",
       "4. (Mediterranean, Dinner party, 2 hours, Chicken, Dinner)\n",
       "5. (Dairy-Free, Cooking for the family, 30 minutes, Sweet Potatoes, Breakfast)\n",
       "6. (Paleo, Picnic, 1 hour, Chicken, Lunch)\n",
       "7. (Low Carb, Snacks, Under 15, Tofu, Late night)\n",
       "8. (No Seafood, Holiday gathering, Overnight, Beans, Brunch)\n",
       "9. (Vegan, Weekend project, 2 hours, Tofu, Dinner)\n",
       "10. (Keto, Cooking for the family, 30 minutes, Chicken, Breakfast)\n",
       "11. (Gluten-Free, Picnic, 1 hour, Quinoa, Lunch)\n",
       "12. (Mediterranean, Work lunch, 30 minutes, Beans, Lunch)\n",
       "13. (Dairy-Free, Snacks, Under 15, Sweet Potatoes, Late night)\n",
       "14. (Paleo, Weeknight dinner, 30 minutes, Ground Beef, Dinner)\n",
       "15. (Low Carb, Dinner party, 1 hour, Chicken, Dinner)\n",
       "16. (No Seafood, Potluck, 2 hours, Pasta, Dinner)\n",
       "17. (Vegan, Holiday gathering, Overnight, Rice, Brunch)\n",
       "18. (Keto, Snacks, Under 15, Ground Beef, Late night)\n",
       "19. (Gluten-Free, Cooking for the family, 1 hour, Sweet Potatoes, Dinner)\n",
       "20. (Mediterranean, Weekend project, 2 hours, Quinoa, Lunch)\n",
       "21. (Dairy-Free, Weeknight dinner, 30 minutes, Tofu, Dinner)\n",
       "22. (Paleo, Work lunch, Under 15, Chicken, Lunch)\n",
       "23. (Low Carb, Picnic, 1 hour, Beans, Lunch)\n",
       "24. (No Seafood, Dinner party, 2 hours, Rice, Dinner)\n",
       "25. (Vegan, Snacks, 30 minutes, Beans, Late night)\n",
       "26. (Keto, Holiday gathering, 2 hours, Chicken, Brunch)\n",
       "27. (Gluten-Free, Weekend project, Overnight, Quinoa, Breakfast)\n",
       "28. (Mediterranean, Cooking for the family, 1 hour, Pasta, Dinner)\n",
       "29. (Dairy-Free, Potluck, 2 hours, Rice, Lunch)\n",
       "30. (Paleo, Weeknight dinner, Under 15, Sweet Potatoes, Dinner)\n",
       "31. (Low Carb, Work lunch, 30 minutes, Tofu, Lunch)\n",
       "32. (No Seafood, Snacks, 1 hour, Ground Beef, Late night)\n",
       "33. (Vegan, Picnic, 30 minutes, Sweet Potatoes, Lunch)\n",
       "34. (Keto, Dinner party, 1 hour, Ground Beef, Dinner)\n",
       "35. (Gluten-Free, Holiday gathering, 2 hours, Beans, Brunch)\n",
       "36. (Mediterranean, Weeknight dinner, 30 minutes, Rice, Dinner)\n",
       "37. (Dairy-Free, Weekend project, Overnight, Pasta, Breakfast)\n",
       "38. (Paleo, Potluck, 1 hour, Ground Beef, Lunch)\n",
       "39. (Low Carb, Cooking for the family, Under 15, Chicken, Breakfast)\n",
       "40. (No Seafood, Work lunch, 30 minutes, Quinoa, Lunch)\n",
       "41. (Vegan, Dinner party, 2 hours, Pasta, Dinner)\n",
       "42. (Keto, Picnic, 1 hour, Tofu, Lunch)\n",
       "43. (Gluten-Free, Snacks, Under 15, Rice, Late night)\n",
       "44. (Mediterranean, Holiday gathering, Overnight, Chicken, Brunch)\n",
       "45. (Dairy-Free, Cooking for the family, 1 hour, Beans, Dinner)\n",
       "46. (Paleo, Weekend project, 2 hours, Sweet Potatoes, Breakfast)\n",
       "47. (Low Carb, Weeknight dinner, 30 minutes, Ground Beef, Dinner)\n",
       "48. (No Seafood, Potluck, 1 hour, Tofu, Lunch)\n",
       "49. (Vegan, Work lunch, Under 15, Quinoa, Lunch)\n",
       "50. (Mediterranean, Snacks, 30 minutes, Sweet Potatoes, Late night)\n",
       "\n",
       "These combinations provide a diverse range of realistic scenarios that would test various aspects of your Recipe Bot, including dietary compatibility, time constraints, ingredient usage, and meal appropriateness for different occasions.\n",
       "\n",
       "<details>\n",
       "\n",
       "- id: `msg_013fZdCZwW86wAbJY8yiLuXy`\n",
       "- content: `[{'citations': None, 'text': 'Here are 50 unique and realistic combinations for testing your Recipe Bot:\\n\\n1. (Vegan, Potluck, 1 hour, Quinoa, Lunch)\\n2. (Keto, Weeknight dinner, 30 minutes, Ground Beef, Dinner)\\n3. (Gluten-Free, Work lunch, Under 15, Rice, Lunch)\\n4. (Mediterranean, Dinner party, 2 hours, Chicken, Dinner)\\n5. (Dairy-Free, Cooking for the family, 30 minutes, Sweet Potatoes, Breakfast)\\n6. (Paleo, Picnic, 1 hour, Chicken, Lunch)\\n7. (Low Carb, Snacks, Under 15, Tofu, Late night)\\n8. (No Seafood, Holiday gathering, Overnight, Beans, Brunch)\\n9. (Vegan, Weekend project, 2 hours, Tofu, Dinner)\\n10. (Keto, Cooking for the family, 30 minutes, Chicken, Breakfast)\\n11. (Gluten-Free, Picnic, 1 hour, Quinoa, Lunch)\\n12. (Mediterranean, Work lunch, 30 minutes, Beans, Lunch)\\n13. (Dairy-Free, Snacks, Under 15, Sweet Potatoes, Late night)\\n14. (Paleo, Weeknight dinner, 30 minutes, Ground Beef, Dinner)\\n15. (Low Carb, Dinner party, 1 hour, Chicken, Dinner)\\n16. (No Seafood, Potluck, 2 hours, Pasta, Dinner)\\n17. (Vegan, Holiday gathering, Overnight, Rice, Brunch)\\n18. (Keto, Snacks, Under 15, Ground Beef, Late night)\\n19. (Gluten-Free, Cooking for the family, 1 hour, Sweet Potatoes, Dinner)\\n20. (Mediterranean, Weekend project, 2 hours, Quinoa, Lunch)\\n21. (Dairy-Free, Weeknight dinner, 30 minutes, Tofu, Dinner)\\n22. (Paleo, Work lunch, Under 15, Chicken, Lunch)\\n23. (Low Carb, Picnic, 1 hour, Beans, Lunch)\\n24. (No Seafood, Dinner party, 2 hours, Rice, Dinner)\\n25. (Vegan, Snacks, 30 minutes, Beans, Late night)\\n26. (Keto, Holiday gathering, 2 hours, Chicken, Brunch)\\n27. (Gluten-Free, Weekend project, Overnight, Quinoa, Breakfast)\\n28. (Mediterranean, Cooking for the family, 1 hour, Pasta, Dinner)\\n29. (Dairy-Free, Potluck, 2 hours, Rice, Lunch)\\n30. (Paleo, Weeknight dinner, Under 15, Sweet Potatoes, Dinner)\\n31. (Low Carb, Work lunch, 30 minutes, Tofu, Lunch)\\n32. (No Seafood, Snacks, 1 hour, Ground Beef, Late night)\\n33. (Vegan, Picnic, 30 minutes, Sweet Potatoes, Lunch)\\n34. (Keto, Dinner party, 1 hour, Ground Beef, Dinner)\\n35. (Gluten-Free, Holiday gathering, 2 hours, Beans, Brunch)\\n36. (Mediterranean, Weeknight dinner, 30 minutes, Rice, Dinner)\\n37. (Dairy-Free, Weekend project, Overnight, Pasta, Breakfast)\\n38. (Paleo, Potluck, 1 hour, Ground Beef, Lunch)\\n39. (Low Carb, Cooking for the family, Under 15, Chicken, Breakfast)\\n40. (No Seafood, Work lunch, 30 minutes, Quinoa, Lunch)\\n41. (Vegan, Dinner party, 2 hours, Pasta, Dinner)\\n42. (Keto, Picnic, 1 hour, Tofu, Lunch)\\n43. (Gluten-Free, Snacks, Under 15, Rice, Late night)\\n44. (Mediterranean, Holiday gathering, Overnight, Chicken, Brunch)\\n45. (Dairy-Free, Cooking for the family, 1 hour, Beans, Dinner)\\n46. (Paleo, Weekend project, 2 hours, Sweet Potatoes, Breakfast)\\n47. (Low Carb, Weeknight dinner, 30 minutes, Ground Beef, Dinner)\\n48. (No Seafood, Potluck, 1 hour, Tofu, Lunch)\\n49. (Vegan, Work lunch, Under 15, Quinoa, Lunch)\\n50. (Mediterranean, Snacks, 30 minutes, Sweet Potatoes, Late night)\\n\\nThese combinations provide a diverse range of realistic scenarios that would test various aspects of your Recipe Bot, including dietary compatibility, time constraints, ingredient usage, and meal appropriateness for different occasions.', 'type': 'text'}]`\n",
       "- model: `claude-sonnet-4-20250514`\n",
       "- role: `assistant`\n",
       "- stop_reason: `end_turn`\n",
       "- stop_sequence: `None`\n",
       "- type: `message`\n",
       "- usage: `{'cache_creation_input_tokens': 0, 'cache_read_input_tokens': 0, 'input_tokens': 274, 'output_tokens': 1243, 'server_tool_use': None, 'service_tier': 'standard'}`\n",
       "\n",
       "</details>"
      ],
      "text/plain": [
       "Message(id='msg_013fZdCZwW86wAbJY8yiLuXy', content=[TextBlock(citations=None, text='Here are 50 unique and realistic combinations for testing your Recipe Bot:\\n\\n1. (Vegan, Potluck, 1 hour, Quinoa, Lunch)\\n2. (Keto, Weeknight dinner, 30 minutes, Ground Beef, Dinner)\\n3. (Gluten-Free, Work lunch, Under 15, Rice, Lunch)\\n4. (Mediterranean, Dinner party, 2 hours, Chicken, Dinner)\\n5. (Dairy-Free, Cooking for the family, 30 minutes, Sweet Potatoes, Breakfast)\\n6. (Paleo, Picnic, 1 hour, Chicken, Lunch)\\n7. (Low Carb, Snacks, Under 15, Tofu, Late night)\\n8. (No Seafood, Holiday gathering, Overnight, Beans, Brunch)\\n9. (Vegan, Weekend project, 2 hours, Tofu, Dinner)\\n10. (Keto, Cooking for the family, 30 minutes, Chicken, Breakfast)\\n11. (Gluten-Free, Picnic, 1 hour, Quinoa, Lunch)\\n12. (Mediterranean, Work lunch, 30 minutes, Beans, Lunch)\\n13. (Dairy-Free, Snacks, Under 15, Sweet Potatoes, Late night)\\n14. (Paleo, Weeknight dinner, 30 minutes, Ground Beef, Dinner)\\n15. (Low Carb, Dinner party, 1 hour, Chicken, Dinner)\\n16. (No Seafood, Potluck, 2 hours, Pasta, Dinner)\\n17. (Vegan, Holiday gathering, Overnight, Rice, Brunch)\\n18. (Keto, Snacks, Under 15, Ground Beef, Late night)\\n19. (Gluten-Free, Cooking for the family, 1 hour, Sweet Potatoes, Dinner)\\n20. (Mediterranean, Weekend project, 2 hours, Quinoa, Lunch)\\n21. (Dairy-Free, Weeknight dinner, 30 minutes, Tofu, Dinner)\\n22. (Paleo, Work lunch, Under 15, Chicken, Lunch)\\n23. (Low Carb, Picnic, 1 hour, Beans, Lunch)\\n24. (No Seafood, Dinner party, 2 hours, Rice, Dinner)\\n25. (Vegan, Snacks, 30 minutes, Beans, Late night)\\n26. (Keto, Holiday gathering, 2 hours, Chicken, Brunch)\\n27. (Gluten-Free, Weekend project, Overnight, Quinoa, Breakfast)\\n28. (Mediterranean, Cooking for the family, 1 hour, Pasta, Dinner)\\n29. (Dairy-Free, Potluck, 2 hours, Rice, Lunch)\\n30. (Paleo, Weeknight dinner, Under 15, Sweet Potatoes, Dinner)\\n31. (Low Carb, Work lunch, 30 minutes, Tofu, Lunch)\\n32. (No Seafood, Snacks, 1 hour, Ground Beef, Late night)\\n33. (Vegan, Picnic, 30 minutes, Sweet Potatoes, Lunch)\\n34. (Keto, Dinner party, 1 hour, Ground Beef, Dinner)\\n35. (Gluten-Free, Holiday gathering, 2 hours, Beans, Brunch)\\n36. (Mediterranean, Weeknight dinner, 30 minutes, Rice, Dinner)\\n37. (Dairy-Free, Weekend project, Overnight, Pasta, Breakfast)\\n38. (Paleo, Potluck, 1 hour, Ground Beef, Lunch)\\n39. (Low Carb, Cooking for the family, Under 15, Chicken, Breakfast)\\n40. (No Seafood, Work lunch, 30 minutes, Quinoa, Lunch)\\n41. (Vegan, Dinner party, 2 hours, Pasta, Dinner)\\n42. (Keto, Picnic, 1 hour, Tofu, Lunch)\\n43. (Gluten-Free, Snacks, Under 15, Rice, Late night)\\n44. (Mediterranean, Holiday gathering, Overnight, Chicken, Brunch)\\n45. (Dairy-Free, Cooking for the family, 1 hour, Beans, Dinner)\\n46. (Paleo, Weekend project, 2 hours, Sweet Potatoes, Breakfast)\\n47. (Low Carb, Weeknight dinner, 30 minutes, Ground Beef, Dinner)\\n48. (No Seafood, Potluck, 1 hour, Tofu, Lunch)\\n49. (Vegan, Work lunch, Under 15, Quinoa, Lunch)\\n50. (Mediterranean, Snacks, 30 minutes, Sweet Potatoes, Late night)\\n\\nThese combinations provide a diverse range of realistic scenarios that would test various aspects of your Recipe Bot, including dietary compatibility, time constraints, ingredient usage, and meal appropriateness for different occasions.', type='text')], model='claude-sonnet-4-20250514', role='assistant', stop_reason='end_turn', stop_sequence=None, type='message', usage=In: 274; Out: 1243; Cache create: 0; Cache read: 0; Total Tokens: 1517; Server tool use (web search requests): 0)"
      ]
     },
     "execution_count": 6,
     "metadata": {},
     "output_type": "execute_result"
    }
   ],
   "source": [
    "# c(prompt)"
   ]
  },
  {
   "cell_type": "code",
   "execution_count": 7,
   "metadata": {},
   "outputs": [],
   "source": [
    "dimension_examples = (\n",
    "    # Beans aren't keto, should bot offer alternative?\n",
    "    ('Keto', 'Snacks', '1 hour', 'Beans', 'Lunch'),\n",
    "    ('Low Carb', 'Dinner party', '1 hour', 'Ground Beef', 'Dinner'),\n",
    "    # Fairly quick thing for family using an ingredient that's easy to get\n",
    "    ('Keto', 'Cooking for the family', '30 minutes', 'Ground Beef', 'Lunch'),\n",
    "    # Pasta seems good for potlucks since you can make a lot of it\n",
    "    ('No Seafood', 'Potluck', '1 hour', 'Pasta', 'Dinner'), \n",
    "    # Nice for protein snack like lettuce cups\n",
    "    ('Low Carb', 'Snacks', 'Under 15', 'Ground Beef', 'Lunch'),\n",
    "    # Often I have beans on hand and want to use them for something\n",
    "    ('Keto', 'Cooking for the family', 'Under 15', 'Beans', 'Breakfast'),\n",
    "    ('No Seafood', 'Dinner party', '30 minutes', 'Pasta', 'Dinner'),\n",
    "    ('Low Carb', 'Cooking for the family', '1 hour', 'Beans', 'Dinner'),\n",
    "    ('Keto', 'Potluck', '30 minutes', 'Ground Beef', 'Dinner'),\n",
    "    ('No Seafood', 'Snacks', 'Under 15', 'Beans', 'Lunch'),\n",
    "    ('Low Carb', 'Potluck', '30 minutes', 'Ground Beef', 'Lunch'),\n",
    "    ('No Seafood', 'Cooking for the family', '1 hour', 'Beans', 'Dinner'),\n",
    "    ('Low Carb', 'Snacks', '30 minutes', 'Beans', 'Breakfast'),\n",
    "    ('Low Carb', 'Dinner party', '30 minutes', 'Beans', 'Lunch'),\n",
    "    ('Keto', 'Cooking for the family', '1 hour', 'Pasta', 'Dinner'),\n",
    "    ('No Seafood', 'Snacks', '30 minutes', 'Ground Beef', 'Breakfast'),\n",
    "    ('Low Carb', 'Cooking for the family', 'Under 15', 'Pasta', 'Breakfast'),\n",
    "    # Breakfast potluck and dinner party?  Who does that?\n",
    "    # ('Keto', 'Potluck', '1 hour', 'Beans', 'Breakfast')\n",
    "    # ('No Seafood', 'Potluck', 'Under 15', 'Pasta', 'Breakfast'),\n",
    "    # ('Keto', 'Dinner party', 'Under 15', 'Ground Beef', 'Breakfast'),\n",
    "    ('Vegan', 'Potluck', '1 hour', 'Quinoa', 'Lunch'),\n",
    "    ('Keto', 'Weeknight dinner', '30 minutes', 'Ground Beef', 'Dinner'),\n",
    "    ('Gluten-Free', 'Work lunch', 'Under 15', 'Rice', 'Lunch'),\n",
    "    ('Mediterranean', 'Dinner party', '2 hours', 'Chicken', 'Dinner'),\n",
    "    # # Sweet potatoes for breakfast is very unusual\n",
    "    # ('Dairy-Free', 'Cooking for the family', '30 minutes', 'Sweet Potatoes', 'Breakfast'),  \n",
    "    ('Paleo', 'Picnic', '1 hour', 'Chicken', 'Lunch'),\n",
    "    ('Low Carb', 'Snacks', 'Under 15', 'Tofu', 'Late night'),  \n",
    "    ('No Seafood', 'Holiday gathering', 'Overnight', 'Beans', 'Brunch'),  \n",
    "    ('Vegan', 'Weekend project', '2 hours', 'Tofu', 'Dinner'),\n",
    "    ('Keto', 'Cooking for the family', '30 minutes', 'Chicken', 'Breakfast'), \n",
    "    ('Gluten-Free', 'Picnic', '1 hour', 'Quinoa', 'Lunch'),\n",
    "    ('Mediterranean', 'Work lunch', '30 minutes', 'Beans', 'Lunch'),\n",
    "    ('Dairy-Free', 'Snacks', 'Under 15', 'Sweet Potatoes', 'Late night'), \n",
    "    ('Paleo', 'Weeknight dinner', '30 minutes', 'Ground Beef', 'Dinner'),\n",
    "    ('Low Carb', 'Dinner party', '1 hour', 'Chicken', 'Dinner'),\n",
    "    ('No Seafood', 'Potluck', '2 hours', 'Pasta', 'Dinner'),\n",
    "    # # Rice for brunch is very unusual\n",
    "    # ('Vegan', 'Holiday gathering', 'Overnight', 'Rice', 'Brunch'),  \n",
    "    ('Keto', 'Snacks', 'Under 15', 'Ground Beef', 'Late night'),  \n",
    "    ('Gluten-Free', 'Cooking for the family', '1 hour', 'Sweet Potatoes', 'Dinner'),\n",
    "    ('Mediterranean', 'Weekend project', '2 hours', 'Quinoa', 'Lunch'),\n",
    "    ('Dairy-Free', 'Weeknight dinner', '30 minutes', 'Tofu', 'Dinner'),\n",
    "    ('Paleo', 'Work lunch', 'Under 15', 'Chicken', 'Lunch'),\n",
    "    ('Low Carb', 'Picnic', '1 hour', 'Beans', 'Lunch'),\n",
    "    ('No Seafood', 'Dinner party', '2 hours', 'Rice', 'Dinner'),\n",
    "    ('Vegan', 'Snacks', '30 minutes', 'Beans', 'Late night'),  \n",
    "    ('Keto', 'Holiday gathering', '2 hours', 'Chicken', 'Brunch'),\n",
    "    # Quinoa for breakfast is very unusual\n",
    "    # ('Gluten-Free', 'Weekend project', 'Overnight', 'Quinoa', 'Breakfast'),  \n",
    "    ('Mediterranean', 'Cooking for the family', '1 hour', 'Pasta', 'Dinner'),\n",
    "    ('Dairy-Free', 'Potluck', '2 hours', 'Rice', 'Lunch'),\n",
    "    # Sweet potatoes take longer than 15 min to cook\n",
    "    # ('Paleo', 'Weeknight dinner', 'Under 15', 'Sweet Potatoes', 'Dinner'),  \n",
    "    ('Low Carb', 'Work lunch', '30 minutes', 'Tofu', 'Lunch'),  \n",
    "    ('No Seafood', 'Snacks', '1 hour', 'Ground Beef', 'Late night'),  \n",
    "    ('Vegan', 'Picnic', '30 minutes', 'Sweet Potatoes', 'Lunch'),  \n",
    "    ('Keto', 'Dinner party', '1 hour', 'Ground Beef', 'Dinner'),\n",
    "    ('Gluten-Free', 'Holiday gathering', '2 hours', 'Beans', 'Brunch'),  \n",
    "    ('Mediterranean', 'Weeknight dinner', '30 minutes', 'Rice', 'Dinner'),\n",
    "    # # Pasta for breakfast is very unusual\n",
    "    # ('Dairy-Free', 'Weekend project', 'Overnight', 'Pasta', 'Breakfast'),  \n",
    "    ('Paleo', 'Potluck', '1 hour', 'Ground Beef', 'Lunch'),\n",
    "    ('Low Carb', 'Cooking for the family', 'Under 15', 'Chicken', 'Breakfast'),  \n",
    "    ('No Seafood', 'Work lunch', '30 minutes', 'Quinoa', 'Lunch'),\n",
    "    ('Vegan', 'Dinner party', '2 hours', 'Pasta', 'Dinner'),\n",
    "    ('Keto', 'Picnic', '1 hour', 'Tofu', 'Lunch'),  \n",
    "    ('Gluten-Free', 'Snacks', 'Under 15', 'Rice', 'Late night'),  \n",
    "    ('Mediterranean', 'Holiday gathering', 'Overnight', 'Chicken', 'Brunch'),  \n",
    "    ('Dairy-Free', 'Cooking for the family', '1 hour', 'Beans', 'Dinner'),\n",
    "    # Sweet potatoes for breakfast is very unusual\n",
    "    # ('Paleo', 'Weekend project', '2 hours', 'Sweet Potatoes', 'Breakfast'),  \n",
    "    ('Low Carb', 'Weeknight dinner', '30 minutes', 'Ground Beef', 'Dinner'),\n",
    "    ('No Seafood', 'Potluck', '1 hour', 'Tofu', 'Lunch'),\n",
    "    ('Vegan', 'Work lunch', 'Under 15', 'Quinoa', 'Lunch'),\n",
    "    ('Mediterranean', 'Snacks', '30 minutes', 'Sweet Potatoes', 'Late night')  \n",
    ")"
   ]
  },
  {
   "cell_type": "markdown",
   "metadata": {},
   "source": [
    "### Generate Nature Language Queries"
   ]
  },
  {
   "cell_type": "code",
   "execution_count": 11,
   "metadata": {},
   "outputs": [],
   "source": [
    "\n",
    "followup_prompt = dedent('''\\\n",
    "   Convert these dimension combinations into realistic user queries for a recipe bot. Create natural, conversational queries that reflect how real users would interact in chat interfaces like Discord or ChatGPT. Include variations in:\n",
    "   - Writing style (formal vs casual)\n",
    "   - Sentence structure (complete vs incomplete)\n",
    "   - Common typos and informal grammar\n",
    "   - Natural language patterns\n",
    "   - Realistic context and urgency\n",
    "                         \n",
    "    Include only 1 example per `dimension_example`.\n",
    "                         \n",
    "    <dimension_examples>\n",
    "    {dimension_examples}\n",
    "    </dimension_examples>\n",
    "                         \n",
    "   Return the results as a list of strings.\n",
    "   ''')"
   ]
  },
  {
   "cell_type": "code",
   "execution_count": 12,
   "metadata": {},
   "outputs": [
    {
     "data": {
      "text/plain": [
       "[('Keto', 'Holiday gathering', '2 hours', 'Chicken', 'Brunch'),\n",
       " ('Low Carb', 'Cooking for the family', '1 hour', 'Beans', 'Dinner'),\n",
       " ('Low Carb', 'Dinner party', '1 hour', 'Ground Beef', 'Dinner'),\n",
       " ('Gluten-Free', 'Holiday gathering', '2 hours', 'Beans', 'Brunch'),\n",
       " ('Vegan', 'Potluck', '1 hour', 'Quinoa', 'Lunch'),\n",
       " ('No Seafood', 'Snacks', '30 minutes', 'Ground Beef', 'Breakfast'),\n",
       " ('Keto', 'Cooking for the family', '1 hour', 'Pasta', 'Dinner'),\n",
       " ('Keto', 'Potluck', '30 minutes', 'Ground Beef', 'Dinner'),\n",
       " ('Low Carb', 'Weeknight dinner', '30 minutes', 'Ground Beef', 'Dinner'),\n",
       " ('No Seafood', 'Dinner party', '30 minutes', 'Pasta', 'Dinner'),\n",
       " ('Low Carb', 'Work lunch', '30 minutes', 'Tofu', 'Lunch'),\n",
       " ('Vegan', 'Dinner party', '2 hours', 'Pasta', 'Dinner'),\n",
       " ('Mediterranean', 'Weekend project', '2 hours', 'Quinoa', 'Lunch'),\n",
       " ('Keto', 'Cooking for the family', 'Under 15', 'Beans', 'Breakfast'),\n",
       " ('Low Carb', 'Picnic', '1 hour', 'Beans', 'Lunch'),\n",
       " ('Mediterranean', 'Work lunch', '30 minutes', 'Beans', 'Lunch'),\n",
       " ('Keto', 'Cooking for the family', '30 minutes', 'Ground Beef', 'Lunch'),\n",
       " ('No Seafood', 'Potluck', '1 hour', 'Tofu', 'Lunch'),\n",
       " ('Paleo', 'Potluck', '1 hour', 'Ground Beef', 'Lunch'),\n",
       " ('Low Carb', 'Dinner party', '30 minutes', 'Beans', 'Lunch'),\n",
       " ('Gluten-Free', 'Snacks', 'Under 15', 'Rice', 'Late night'),\n",
       " ('Keto', 'Snacks', 'Under 15', 'Ground Beef', 'Late night'),\n",
       " ('No Seafood', 'Dinner party', '2 hours', 'Rice', 'Dinner'),\n",
       " ('Low Carb', 'Cooking for the family', 'Under 15', 'Chicken', 'Breakfast'),\n",
       " ('Dairy-Free', 'Weeknight dinner', '30 minutes', 'Tofu', 'Dinner'),\n",
       " ('Low Carb', 'Snacks', '30 minutes', 'Beans', 'Breakfast'),\n",
       " ('Mediterranean', 'Weeknight dinner', '30 minutes', 'Rice', 'Dinner'),\n",
       " ('Gluten-Free', 'Picnic', '1 hour', 'Quinoa', 'Lunch'),\n",
       " ('Mediterranean', 'Snacks', '30 minutes', 'Sweet Potatoes', 'Late night'),\n",
       " ('Dairy-Free', 'Snacks', 'Under 15', 'Sweet Potatoes', 'Late night'),\n",
       " ('Keto', 'Weeknight dinner', '30 minutes', 'Ground Beef', 'Dinner'),\n",
       " ('Keto', 'Picnic', '1 hour', 'Tofu', 'Lunch'),\n",
       " ('Keto', 'Cooking for the family', '30 minutes', 'Chicken', 'Breakfast'),\n",
       " ('Vegan', 'Picnic', '30 minutes', 'Sweet Potatoes', 'Lunch'),\n",
       " ('Keto', 'Snacks', '1 hour', 'Beans', 'Lunch'),\n",
       " ('Vegan', 'Weekend project', '2 hours', 'Tofu', 'Dinner'),\n",
       " ('Dairy-Free', 'Potluck', '2 hours', 'Rice', 'Lunch'),\n",
       " ('Low Carb', 'Snacks', 'Under 15', 'Tofu', 'Late night'),\n",
       " ('Mediterranean', 'Cooking for the family', '1 hour', 'Pasta', 'Dinner'),\n",
       " ('Low Carb', 'Potluck', '30 minutes', 'Ground Beef', 'Lunch')]"
      ]
     },
     "execution_count": 12,
     "metadata": {},
     "output_type": "execute_result"
    }
   ],
   "source": [
    "import random\n",
    "random.seed(42)\n",
    "dimension_samples_for_nlp = random.sample(dimension_examples, 40)\n",
    "dimension_samples_for_nlp"
   ]
  },
  {
   "cell_type": "code",
   "execution_count": 14,
   "metadata": {},
   "outputs": [],
   "source": [
    "# c(followup_prompt.format(dimension_examples=dimension_samples_for_nlp))"
   ]
  },
  {
   "cell_type": "markdown",
   "metadata": {},
   "source": [
    "**1. No Seafood + Potluck + 1 hour + Pasta + Dinner**\n",
    "\n",
    "Hey! Need help with a pasta dish for tonight's potluck dinner - something that takes about an hour to make and NO seafood please (allergies in the group). Any ideas?\n",
    "\n",
    "**2. Keto + Snacks + 1 hour + Beans + Lunch**\n",
    "\n",
    "can i make keto lunch snacks with beans? have about an hour to prep\n",
    "\n",
    "**3. No Seafood + Family + 1 hour + Beans + Dinner**\n",
    "\n",
    "Looking for a family-friendly bean dinner recipe that I can prepare within an hour. Please ensure it contains no seafood as my youngest is allergic.\n",
    "\n",
    "**4. Low Carb + Snacks + Under 15 + Ground Beef + Lunch**\n",
    "\n",
    "quick low carb ground beef snack for lunch?? need something in 15 min or less\n",
    "\n",
    "**5. Low Carb + Family + Under 15 + Pasta + Breakfast**\n",
    "\n",
    "weird request but need low carb pasta breakfast for the fam in under 15 mins - running late for school!\n",
    "\n",
    "**6. Low Carb + Snacks + 30 minutes + Beans + Breakfast**\n",
    "\n",
    "Morning! Could you suggest a low-carb bean snack that works for breakfast? I have about 30 minutes to spare.\n",
    "\n",
    "**7. Keto + Family + 30 minutes + Ground Beef + Lunch**\n",
    "\n",
    "family keto lunch with ground beef - 30 min max, kids are getting hangry lol"
   ]
  },
  {
   "cell_type": "code",
   "execution_count": 17,
   "metadata": {},
   "outputs": [],
   "source": [
    "test_messages = [\n",
    "    '''Hey! Need help with a pasta dish for tonight's potluck dinner - something that takes about an hour to make and NO seafood please (allergies in the group). Any ideas?''',\n",
    "    '''can i make keto lunch snacks with beans? have about an hour to prep''',\n",
    "    '''Looking for a family-friendly bean dinner recipe that I can prepare within an hour. Please ensure it contains no seafood as my youngest is allergic.''',\n",
    "    '''quick low carb ground beef snack for lunch?? need something in 15 min or less''',\n",
    "    '''weird request but need low carb pasta breakfast for the fam in under 15 mins - running late for school!''',\n",
    "    '''Morning! Could you suggest a low-carb bean snack that works for breakfast? I have about 30 minutes to spare.''',\n",
    "    '''family keto lunch with ground beef - 30 min max, kids are getting hangry lol''',\n",
    "    \"Hey! Need a keto brunch recipe for Christmas morning - have about 2 hours and lots of chicken. Ideas?\",\n",
    "    \"looking for low carb dinner with beans, family of 4, got an hour to cook\",\n",
    "    \"hosting dinner party tonight need low carb ground beef recipe that takes about 1 hr??\",\n",
    "    \"Gluten free brunch ideas for holiday party? Have beans and 2 hours to prep\",\n",
    "    \"vegan quinoa lunch for potluck tomorrow - only have 1 hour to make it help!\",\n",
    "    \"Quick breakfast idea with ground beef? No seafood allowed and need it in 30 min for snack time\",\n",
    "    \"How do I make keto pasta for family dinner? Got 1 hour\",\n",
    "    \"bringing keto ground beef dish to potluck, 30 min prep time for dinner\",\n",
    "    \"weeknight dinner SOS! low carb ground beef recipe under 30 minutes please\",\n",
    "    \"dinner party in 30 min need pasta recipe (no seafood)\",\n",
    "    \"Need quick work lunch with tofu, low carb, 30 minutes max\",\n",
    "    \"Planning fancy vegan pasta dinner party - have 2 hours to cook\",\n",
    "    \"Weekend quinoa project! Mediterranean style lunch, got 2 hours to spare\",\n",
    "    \"URGENT: keto breakfast with beans under 15 minutes for the family\",\n",
    "    \"Picnic lunch ideas? Low carb with beans, have about an hour\",\n",
    "    \"mediterranean bean lunch for work - 30 minutes cooking time\",\n",
    "    \"keto ground beef lunch for family, 30 min cook time\",\n",
    "    \"potluck lunch tomorrow - tofu dish, no seafood, 1 hour prep\",\n",
    "    \"paleo ground beef lunch for potluck, 1 hour cooking time\",\n",
    "    \"dinner party appetizer? low carb beans, 30 min, actually for lunch\",\n",
    "    \"late night snack with rice - gluten free under 15 min\",\n",
    "    \"keto late night snack with ground beef under 15 minutes\",\n",
    "    \"fancy dinner party rice dish, no seafood, 2 hours cooking time\",\n",
    "    \"quick breakfast for family - low carb chicken under 15 min\",\n",
    "    \"weeknight tofu dinner dairy free 30 minutes\",\n",
    "    \"breakfast snack with beans low carb 30 min\",\n",
    "    \"mediterranean rice dinner weeknight 30 minutes\",\n",
    "    \"gluten free quinoa lunch for picnic 1 hour\",\n",
    "    \"late night mediterranean sweet potato snack 30 min\",\n",
    "    \"dairy free sweet potato late night snack under 15 min\",\n",
    "    \"keto weeknight ground beef dinner 30 minutes\",\n",
    "    \"keto tofu picnic lunch 1 hour\",\n",
    "    \"keto chicken breakfast for family 30 min\",\n",
    "    \"vegan sweet potato lunch for picnic 30 minutes\",\n",
    "    \"keto bean snack lunch 1 hour\",\n",
    "    \"weekend vegan tofu dinner project 2 hours\",\n",
    "    \"dairy free rice potluck lunch 2 hours\",\n",
    "    \"late night low carb tofu snack under 15 min\",\n",
    "    \"mediterranean pasta family dinner 1 hour\",\n",
    "    \"low carb ground beef potluck lunch 30 min\"]\n"
   ]
  },
  {
   "cell_type": "markdown",
   "metadata": {},
   "source": [
    "## Part 2: Initial Error Analysis"
   ]
  },
  {
   "cell_type": "markdown",
   "metadata": {},
   "source": [
    "### Run bot on synthetic queries"
   ]
  },
  {
   "cell_type": "markdown",
   "metadata": {},
   "source": [
    "I decided at this point to implement automated tracing.  Copying and pasting from the UI felt annoying and I didn't want to do that.  So I felt like I had 2 main options:\n",
    "\n",
    "1. Implement functions that can call the backend programatically\n",
    "2. Implement automated tracing\n",
    "\n",
    "I opted for option #2 because I wanted to be a user of my product more, and did not want to fully automate away the experience of using the actual application.\n",
    "\n",
    "So I implemented the simplest tracing mechanism I could think of to start with.  Saving JSON files to disk.\n",
    "\n",
    "\n",
    "```python\n",
    "    traces_dir = Path(__file__).parent.parent / \"annotation\" / \"traces\"\n",
    "    traces_dir.mkdir(parents=True, exist_ok=True)\n",
    "    ts = datetime.datetime.now().strftime(\"%Y%m%d_%H%M%S_%f\")\n",
    "    trace_path = traces_dir / f\"trace_{ts}.json\"\n",
    "    with open(trace_path, \"w\") as f:\n",
    "        json.dump({\n",
    "            \"request\": payload.model_dump(),\n",
    "            \"response\": response.model_dump()\n",
    "        }, f)\n",
    "```"
   ]
  },
  {
   "cell_type": "markdown",
   "metadata": {},
   "source": [
    "I took each of the synthetic queries and ran them through the app to generate the traces.  I then copied them into a `golden_dataset` folder which is what ill use for my open coding dataset for this excersize."
   ]
  },
  {
   "cell_type": "markdown",
   "metadata": {},
   "source": [
    "### Open Coding"
   ]
  },
  {
   "cell_type": "markdown",
   "metadata": {},
   "source": [
    "> NOTE:  Watch Hamel and Isaac do open coding live.  This is VERY important to watch.\n",
    "\n",
    "https://www.youtube.com/watch?v=AKg27L4E0M8\n",
    "\n",
    "To do open coding I opted to create an annotation app with fasthtml.  You can see it in `annotation/\n",
    "annotation.py` and run it with `python annotation.py`.  This reads the json files from the `golden_dataset` folder directly, and then saves any of my open coding notes back in the json file.  I only solved for open coding first."
   ]
  },
  {
   "cell_type": "markdown",
   "metadata": {},
   "source": [
    "![](imgs/open_coding_dashboard.png)\n",
    "\n",
    "![](imgs/open_coding_notes.png)"
   ]
  },
  {
   "cell_type": "markdown",
   "metadata": {},
   "source": [
    "UX things I noticed along the way I will improve over time:\n",
    "- Kinda annoying not to have a next button and have to go back to the dashboard\n",
    "- Dashboard needs some indication as to what's been done so when I come back to it it's not lost"
   ]
  },
  {
   "cell_type": "markdown",
   "metadata": {},
   "source": [
    "I adressed this by using an href for next and previous, and added a single emoji for it open coding was done.  I then extended it to give 2 emojis if both open coding and axial coding was done."
   ]
  },
  {
   "cell_type": "markdown",
   "metadata": {},
   "source": [
    "![](./imgs/NewDashboard.png)"
   ]
  },
  {
   "cell_type": "markdown",
   "metadata": {},
   "source": [
    "### Axial Coding and Taxonomy Definition"
   ]
  },
  {
   "cell_type": "markdown",
   "metadata": {},
   "source": [
    "I then went through and did axial coding.  I did this by adding MonsterUI's insertable select and saving things back to json.\n",
    "\n",
    "The insertable select saves to the json as well and lets you search and add new codes as you go if one doesne exist"
   ]
  },
  {
   "cell_type": "markdown",
   "metadata": {},
   "source": [
    "Findings:\n",
    "\n",
    "- I failure modes had just 1 or 2 traces in them.  This tells me that I probably have not seen all the failure modes and have not reached saturation.  I need to do more\n",
    "- Maybe the original instruction for no follow up quesetions was bad.  If someone asks for keto + beans it's impossible to comply with both, and seems like in that case it makes sense to have a follow up question."
   ]
  },
  {
   "cell_type": "markdown",
   "metadata": {},
   "source": []
  }
 ],
 "metadata": {
  "kernelspec": {
   "display_name": ".venv",
   "language": "python",
   "name": "python3"
  },
  "language_info": {
   "codemirror_mode": {
    "name": "ipython",
    "version": 3
   },
   "file_extension": ".py",
   "mimetype": "text/x-python",
   "name": "python",
   "nbconvert_exporter": "python",
   "pygments_lexer": "ipython3",
   "version": "3.12.8"
  }
 },
 "nbformat": 4,
 "nbformat_minor": 2
}
